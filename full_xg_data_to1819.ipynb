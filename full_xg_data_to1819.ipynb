{
 "cells": [
  {
   "cell_type": "code",
   "execution_count": 297,
   "metadata": {},
   "outputs": [],
   "source": [
    "import pandas as pd\n",
    "import re\n",
    "from glob import glob\n",
    "import numpy as np\n",
    "from pulp import *"
   ]
  },
  {
   "cell_type": "code",
   "execution_count": 3,
   "metadata": {},
   "outputs": [],
   "source": [
    "allleagues1517 = pd.read_csv('/Users/jbachlombardo/Documents/Python/Projects/xG/AllLeagues_15-17.csv')"
   ]
  },
  {
   "cell_type": "code",
   "execution_count": 23,
   "metadata": {},
   "outputs": [],
   "source": [
    "fnames1718 = glob('/Users/jbachlombardo/Documents/Python/Projects/xG/*1718.csv')\n",
    "fnames1819 = glob('/Users/jbachlombardo/Documents/Python/Projects/xG/*1819.csv')"
   ]
  },
  {
   "cell_type": "code",
   "execution_count": 17,
   "metadata": {},
   "outputs": [],
   "source": [
    "seasons1718 = pd.DataFrame()\n",
    "for f in fnames1718 :\n",
    "    _ = pd.read_csv(f)\n",
    "    _['Season'] = '2017/18'\n",
    "    if f[50:-8] == 'bundes' :\n",
    "        _['League'] = 'Bundesliga'\n",
    "    elif f[50:-8] == 'liga' :\n",
    "        _['League'] = 'La Liga'\n",
    "    elif f[50:-8] == 'ligue1' :\n",
    "        _['League'] = 'Ligue 1'\n",
    "    elif f[50:-8] == 'seriea' :\n",
    "        _['League'] = 'Serie A'\n",
    "    else :\n",
    "        _['League'] = 'EPL'\n",
    "    seasons1718 = pd.concat([seasons1718, _])"
   ]
  },
  {
   "cell_type": "code",
   "execution_count": 24,
   "metadata": {},
   "outputs": [],
   "source": [
    "seasons1819 = pd.DataFrame()\n",
    "for f in fnames1819 :\n",
    "    _ = pd.read_csv(f)\n",
    "    _['Season'] = '2018/19'\n",
    "    if f[50:-8] == 'bundes' :\n",
    "        _['League'] = 'Bundesliga'\n",
    "    elif f[50:-8] == 'liga' :\n",
    "        _['League'] = 'La Liga'\n",
    "    elif f[50:-8] == 'ligue1' :\n",
    "        _['League'] = 'Ligue 1'\n",
    "    elif f[50:-8] == 'seriea' :\n",
    "        _['League'] = 'Serie A'\n",
    "    else :\n",
    "        _['League'] = 'EPL'\n",
    "    seasons1819 = pd.concat([seasons1819, _])"
   ]
  },
  {
   "cell_type": "code",
   "execution_count": 29,
   "metadata": {},
   "outputs": [],
   "source": [
    "allleagues1517 = allleagues1517.rename(columns = {'Goals': 'G', 'Assists': 'A'})"
   ]
  },
  {
   "cell_type": "code",
   "execution_count": 33,
   "metadata": {},
   "outputs": [
    {
     "data": {
      "text/plain": [
       "Index(['Season', 'League', 'Team', 'Player', 'Pos', 'Apps', 'Min', 'G', 'A',\n",
       "       'Sh90', 'KP90', 'xG', 'xA', 'xG90', 'xA90'],\n",
       "      dtype='object')"
      ]
     },
     "execution_count": 33,
     "metadata": {},
     "output_type": "execute_result"
    }
   ],
   "source": [
    "cols = allleagues1517.columns\n",
    "cols"
   ]
  },
  {
   "cell_type": "code",
   "execution_count": 31,
   "metadata": {},
   "outputs": [],
   "source": [
    "seasons1819 = seasons1819.rename(columns = {'team': 'Team'})\n",
    "seasons1718 = seasons1718.rename(columns = {'team': 'Team'})"
   ]
  },
  {
   "cell_type": "code",
   "execution_count": 34,
   "metadata": {},
   "outputs": [],
   "source": [
    "seasons1819 = seasons1819[cols]\n",
    "seasons1718 = seasons1718[cols]"
   ]
  },
  {
   "cell_type": "code",
   "execution_count": 36,
   "metadata": {},
   "outputs": [],
   "source": [
    "allseasons = pd.concat([allleagues1517, seasons1718, seasons1819])"
   ]
  },
  {
   "cell_type": "code",
   "execution_count": 38,
   "metadata": {},
   "outputs": [],
   "source": [
    "allseasons = allseasons.dropna()"
   ]
  },
  {
   "cell_type": "code",
   "execution_count": 40,
   "metadata": {},
   "outputs": [],
   "source": [
    "allseasons['xG'] = allseasons['xG'].apply(lambda x: float(re.split('[+-]', x)[0]))\n",
    "allseasons['xA'] = allseasons['xA'].apply(lambda x: float(re.split('[+-]', x)[0]))"
   ]
  },
  {
   "cell_type": "code",
   "execution_count": 43,
   "metadata": {},
   "outputs": [],
   "source": [
    "allseasons['xG+/-'] = allseasons['xG'] - allseasons['G']\n",
    "allseasons['xA+/-'] = allseasons['xA'] - allseasons['A']"
   ]
  },
  {
   "cell_type": "code",
   "execution_count": 46,
   "metadata": {},
   "outputs": [],
   "source": [
    "allseasons.to_csv('/Users/jbachlombardo/Documents/Python/Projects/xG/all_seasons_leagues_1415-1819.csv')"
   ]
  },
  {
   "cell_type": "code",
   "execution_count": 56,
   "metadata": {},
   "outputs": [],
   "source": [
    "costs = pd.read_csv('/Users/jbachlombardo/Documents/Python/Projects/xG/fpl_costs_120819.csv')"
   ]
  },
  {
   "cell_type": "code",
   "execution_count": 61,
   "metadata": {},
   "outputs": [],
   "source": [
    "costs = costs.dropna(axis = 1)"
   ]
  },
  {
   "cell_type": "code",
   "execution_count": 68,
   "metadata": {},
   "outputs": [],
   "source": [
    "team_dict = {\n",
    "'ARS': 'Arsenal',\n",
    "'AVL': 'Aston Villa',\n",
    "'BHA': 'Brighton Hove Albion',\n",
    "'BOU': 'Bournemouth',\n",
    "'BUR': 'Burnley',\n",
    "'CHE': 'Chelsea',\n",
    "'CRY': 'Crystal Palace',\n",
    "'EVE': 'Everton',\n",
    "'LEI': 'Leicester',\n",
    "'LIV': 'Liverpool',\n",
    "'MCI': 'Manchester City',\n",
    "'MUN': 'Manchester United',\n",
    "'NEW': 'Newcastle United',\n",
    "'NOR': 'Norwich',\n",
    "'SHU': 'Sheffield United',\n",
    "'SOU': 'Southampton',\n",
    "'TOT': 'Tottenham',\n",
    "'WAT': 'Watford',\n",
    "'WHU': 'West Ham',\n",
    "'WOL': 'Wolverhampton Wanderers'\n",
    "}"
   ]
  },
  {
   "cell_type": "code",
   "execution_count": 69,
   "metadata": {},
   "outputs": [
    {
     "name": "stderr",
     "output_type": "stream",
     "text": [
      "/anaconda/lib/python3.6/site-packages/ipykernel_launcher.py:1: SettingWithCopyWarning: \n",
      "A value is trying to be set on a copy of a slice from a DataFrame.\n",
      "Try using .loc[row_indexer,col_indexer] = value instead\n",
      "\n",
      "See the caveats in the documentation: http://pandas.pydata.org/pandas-docs/stable/indexing.html#indexing-view-versus-copy\n",
      "  \"\"\"Entry point for launching an IPython kernel.\n"
     ]
    }
   ],
   "source": [
    "costs['Team_name'] = costs['Team'].map(team_dict)"
   ]
  },
  {
   "cell_type": "code",
   "execution_count": 77,
   "metadata": {},
   "outputs": [],
   "source": [
    "costs = costs.rename(columns = {'Name': 'Player'})"
   ]
  },
  {
   "cell_type": "code",
   "execution_count": 254,
   "metadata": {},
   "outputs": [],
   "source": [
    "def get_position_cost(x, y) :\n",
    "    last = x.split()[-1]\n",
    "    results = costs.loc[(costs['Player'].str.contains(last)) & (costs['Team_name'] == y), ['Cost', 'Position']].values\n",
    "    try :\n",
    "        return list(results[0])\n",
    "    except :\n",
    "        return [np.nan, np.nan]"
   ]
  },
  {
   "cell_type": "code",
   "execution_count": 259,
   "metadata": {},
   "outputs": [],
   "source": [
    "allseasons_results = allseasons[['Player', 'Team']].apply(lambda x: get_position_cost(x[0], x[1]), axis = 1)"
   ]
  },
  {
   "cell_type": "code",
   "execution_count": 260,
   "metadata": {},
   "outputs": [],
   "source": [
    "allseasons[['FPL_Cost', 'FPL_Pos']] = pd.DataFrame(allseasons_results.values.tolist(), index = allseasons_results.index)"
   ]
  },
  {
   "cell_type": "code",
   "execution_count": 291,
   "metadata": {
    "scrolled": false
   },
   "outputs": [],
   "source": [
    "have_costs = np.sort(allseasons.dropna(subset = ['FPL_Cost'])['Player'].unique())"
   ]
  },
  {
   "cell_type": "code",
   "execution_count": 292,
   "metadata": {},
   "outputs": [],
   "source": [
    "all_players_costs = costs['Player'].unique()"
   ]
  },
  {
   "cell_type": "code",
   "execution_count": 293,
   "metadata": {},
   "outputs": [],
   "source": [
    "allseasons.to_csv('/Users/jbachlombardo/Documents/Python/Projects/xG/all_seasons_leagues_1415-1819_withcosts.csv')"
   ]
  },
  {
   "cell_type": "code",
   "execution_count": 295,
   "metadata": {},
   "outputs": [],
   "source": [
    "with_costs = allseasons.dropna(subset = ['FPL_Cost'])"
   ]
  },
  {
   "cell_type": "code",
   "execution_count": 304,
   "metadata": {},
   "outputs": [
    {
     "name": "stderr",
     "output_type": "stream",
     "text": [
      "/anaconda/lib/python3.6/site-packages/ipykernel_launcher.py:1: SettingWithCopyWarning: \n",
      "A value is trying to be set on a copy of a slice from a DataFrame.\n",
      "Try using .loc[row_indexer,col_indexer] = value instead\n",
      "\n",
      "See the caveats in the documentation: http://pandas.pydata.org/pandas-docs/stable/indexing.html#indexing-view-versus-copy\n",
      "  \"\"\"Entry point for launching an IPython kernel.\n",
      "/anaconda/lib/python3.6/site-packages/ipykernel_launcher.py:2: SettingWithCopyWarning: \n",
      "A value is trying to be set on a copy of a slice from a DataFrame.\n",
      "Try using .loc[row_indexer,col_indexer] = value instead\n",
      "\n",
      "See the caveats in the documentation: http://pandas.pydata.org/pandas-docs/stable/indexing.html#indexing-view-versus-copy\n",
      "  \n"
     ]
    }
   ],
   "source": [
    "with_costs['Sh'] = with_costs['Sh90'] * with_costs['Min'] / 90\n",
    "with_costs['KP'] = with_costs['KP90'] * with_costs['Min'] / 90"
   ]
  },
  {
   "cell_type": "code",
   "execution_count": 451,
   "metadata": {},
   "outputs": [],
   "source": [
    "agg_dict = {\n",
    "    'xG': 'sum',\n",
    "    'xA': 'sum',\n",
    "    'G': 'sum',\n",
    "    'A': 'sum',\n",
    "    'Min': 'sum',\n",
    "    'Sh': 'sum',\n",
    "    'KP': 'sum',\n",
    "    'Season': 'count',\n",
    "    'FPL_Cost': 'max'\n",
    "}\n",
    "players_totals = with_costs.groupby(['Player', 'Team', 'FPL_Pos'], as_index = False).agg(agg_dict)"
   ]
  },
  {
   "cell_type": "code",
   "execution_count": 452,
   "metadata": {},
   "outputs": [],
   "source": [
    "rate_cols = ['xG', 'xA', 'G', 'A', 'Sh', 'KP']\n",
    "for r in rate_cols :\n",
    "    new_col = r + '_90'\n",
    "    players_totals[new_col] = players_totals[r] / players_totals['Min'] * 90"
   ]
  },
  {
   "cell_type": "code",
   "execution_count": 453,
   "metadata": {},
   "outputs": [],
   "source": [
    "players_totals['xG+/-'] = players_totals['xG'] - players_totals['G']\n",
    "players_totals['xA+/-'] = players_totals['xA'] - players_totals['A']"
   ]
  },
  {
   "cell_type": "code",
   "execution_count": 454,
   "metadata": {},
   "outputs": [],
   "source": [
    "players_totals['xG+/-_90'] = players_totals['xG_90'] - players_totals['G_90']\n",
    "players_totals['xA+/-_90'] = players_totals['xA_90'] - players_totals['A_90']"
   ]
  },
  {
   "cell_type": "code",
   "execution_count": 455,
   "metadata": {},
   "outputs": [],
   "source": [
    "players_three = with_costs[(with_costs['Season'] == '2016/17') | (with_costs['Season'] == '2017/18') | (with_costs['Season'] == '2018/19')]"
   ]
  },
  {
   "cell_type": "code",
   "execution_count": 456,
   "metadata": {},
   "outputs": [],
   "source": [
    "players_two = with_costs[(with_costs['Season'] == '2017/18') | (with_costs['Season'] == '2018/19')]"
   ]
  },
  {
   "cell_type": "code",
   "execution_count": 457,
   "metadata": {},
   "outputs": [],
   "source": [
    "players_one = with_costs[with_costs['Season'] == '2018/19']"
   ]
  },
  {
   "cell_type": "code",
   "execution_count": 458,
   "metadata": {},
   "outputs": [],
   "source": [
    "players_three = players_three.groupby(['Player', 'Team', 'FPL_Pos'], as_index = False).agg(agg_dict)"
   ]
  },
  {
   "cell_type": "code",
   "execution_count": 459,
   "metadata": {},
   "outputs": [],
   "source": [
    "for r in rate_cols :\n",
    "    new_col = r + '_90'\n",
    "    players_three[new_col] = players_three[r] / players_three['Min'] * 90"
   ]
  },
  {
   "cell_type": "code",
   "execution_count": 460,
   "metadata": {},
   "outputs": [],
   "source": [
    "players_three['xG+/-'] = players_three['xG'] - players_three['G']\n",
    "players_three['xA+/-'] = players_three['xA'] - players_three['A']\n",
    "players_three['xG+/-_90'] = players_three['xG_90'] - players_three['G_90']\n",
    "players_three['xA+/-_90'] = players_three['xA_90'] - players_three['A_90']"
   ]
  },
  {
   "cell_type": "code",
   "execution_count": 461,
   "metadata": {},
   "outputs": [],
   "source": [
    "players_two = players_two.groupby(['Player', 'Team', 'FPL_Pos'], as_index = False).agg(agg_dict)"
   ]
  },
  {
   "cell_type": "code",
   "execution_count": 462,
   "metadata": {},
   "outputs": [],
   "source": [
    "for r in rate_cols :\n",
    "    new_col = r + '_90'\n",
    "    players_two[new_col] = players_two[r] / players_two['Min'] * 90"
   ]
  },
  {
   "cell_type": "code",
   "execution_count": 463,
   "metadata": {},
   "outputs": [],
   "source": [
    "players_two['xG+/-'] = players_two['xG'] - players_two['G']\n",
    "players_two['xA+/-'] = players_two['xA'] - players_two['A']\n",
    "players_two['xG+/-_90'] = players_two['xG_90'] - players_two['G_90']\n",
    "players_two['xA+/-_90'] = players_two['xA_90'] - players_two['A_90']"
   ]
  },
  {
   "cell_type": "code",
   "execution_count": 464,
   "metadata": {},
   "outputs": [
    {
     "name": "stderr",
     "output_type": "stream",
     "text": [
      "/anaconda/lib/python3.6/site-packages/ipykernel_launcher.py:3: SettingWithCopyWarning: \n",
      "A value is trying to be set on a copy of a slice from a DataFrame.\n",
      "Try using .loc[row_indexer,col_indexer] = value instead\n",
      "\n",
      "See the caveats in the documentation: http://pandas.pydata.org/pandas-docs/stable/indexing.html#indexing-view-versus-copy\n",
      "  This is separate from the ipykernel package so we can avoid doing imports until\n"
     ]
    }
   ],
   "source": [
    "for r in rate_cols :\n",
    "    new_col = r + '_90'\n",
    "    players_one[new_col] = players_one[r] / players_one['Min'] * 90"
   ]
  },
  {
   "cell_type": "code",
   "execution_count": 465,
   "metadata": {},
   "outputs": [
    {
     "name": "stderr",
     "output_type": "stream",
     "text": [
      "/anaconda/lib/python3.6/site-packages/ipykernel_launcher.py:1: SettingWithCopyWarning: \n",
      "A value is trying to be set on a copy of a slice from a DataFrame.\n",
      "Try using .loc[row_indexer,col_indexer] = value instead\n",
      "\n",
      "See the caveats in the documentation: http://pandas.pydata.org/pandas-docs/stable/indexing.html#indexing-view-versus-copy\n",
      "  \"\"\"Entry point for launching an IPython kernel.\n",
      "/anaconda/lib/python3.6/site-packages/ipykernel_launcher.py:2: SettingWithCopyWarning: \n",
      "A value is trying to be set on a copy of a slice from a DataFrame.\n",
      "Try using .loc[row_indexer,col_indexer] = value instead\n",
      "\n",
      "See the caveats in the documentation: http://pandas.pydata.org/pandas-docs/stable/indexing.html#indexing-view-versus-copy\n",
      "  \n",
      "/anaconda/lib/python3.6/site-packages/ipykernel_launcher.py:3: SettingWithCopyWarning: \n",
      "A value is trying to be set on a copy of a slice from a DataFrame.\n",
      "Try using .loc[row_indexer,col_indexer] = value instead\n",
      "\n",
      "See the caveats in the documentation: http://pandas.pydata.org/pandas-docs/stable/indexing.html#indexing-view-versus-copy\n",
      "  This is separate from the ipykernel package so we can avoid doing imports until\n",
      "/anaconda/lib/python3.6/site-packages/ipykernel_launcher.py:4: SettingWithCopyWarning: \n",
      "A value is trying to be set on a copy of a slice from a DataFrame.\n",
      "Try using .loc[row_indexer,col_indexer] = value instead\n",
      "\n",
      "See the caveats in the documentation: http://pandas.pydata.org/pandas-docs/stable/indexing.html#indexing-view-versus-copy\n",
      "  after removing the cwd from sys.path.\n"
     ]
    }
   ],
   "source": [
    "players_one['xG+/-'] = players_one['xG'] - players_one['G']\n",
    "players_one['xA+/-'] = players_one['xA'] - players_one['A']\n",
    "players_one['xG+/-_90'] = players_one['xG_90'] - players_one['G_90']\n",
    "players_one['xA+/-_90'] = players_one['xA_90'] - players_one['A_90']"
   ]
  },
  {
   "cell_type": "markdown",
   "metadata": {},
   "source": [
    "`score = 2*(2*xG_total + xG_90) + 2*xA_total + xA_90 /// 5 (0.1), 3 (0.35), 1 (0.55) year intervals`"
   ]
  },
  {
   "cell_type": "code",
   "execution_count": 466,
   "metadata": {},
   "outputs": [],
   "source": [
    "players_totals['Score_5'] = 4*players_totals['xG'] + 2*players_totals['xG_90'] + 2*players_totals['xA'] + players_totals['xA_90']"
   ]
  },
  {
   "cell_type": "code",
   "execution_count": 467,
   "metadata": {},
   "outputs": [
    {
     "name": "stderr",
     "output_type": "stream",
     "text": [
      "/anaconda/lib/python3.6/site-packages/ipykernel_launcher.py:3: SettingWithCopyWarning: \n",
      "A value is trying to be set on a copy of a slice from a DataFrame.\n",
      "Try using .loc[row_indexer,col_indexer] = value instead\n",
      "\n",
      "See the caveats in the documentation: http://pandas.pydata.org/pandas-docs/stable/indexing.html#indexing-view-versus-copy\n",
      "  This is separate from the ipykernel package so we can avoid doing imports until\n"
     ]
    }
   ],
   "source": [
    "players_three['Score_3'] = 4*players_three['xG'] + 2*players_three['xG_90'] + 2*players_three['xA'] + players_three['xA_90']\n",
    "players_two['Score_2'] = 4*players_two['xG'] + 2*players_two['xG_90'] + 2*players_two['xA'] + players_two['xA_90']\n",
    "players_one['Score_1'] = 4*players_one['xG'] + 2*players_one['xG_90'] + 2*players_one['xA'] + players_one['xA_90']"
   ]
  },
  {
   "cell_type": "code",
   "execution_count": 468,
   "metadata": {},
   "outputs": [],
   "source": [
    "index_cols = ['Player', 'Team', 'FPL_Pos', 'FPL_Cost']"
   ]
  },
  {
   "cell_type": "code",
   "execution_count": 469,
   "metadata": {},
   "outputs": [],
   "source": [
    "players_totals = players_totals.set_index(index_cols)\n",
    "players_three = players_three.set_index(index_cols)\n",
    "players_two = players_two.set_index(index_cols)\n",
    "players_one = players_one.set_index(index_cols)"
   ]
  },
  {
   "cell_type": "code",
   "execution_count": 470,
   "metadata": {},
   "outputs": [],
   "source": [
    "player_scores = pd.DataFrame(index = players_totals.index)"
   ]
  },
  {
   "cell_type": "code",
   "execution_count": 471,
   "metadata": {},
   "outputs": [],
   "source": [
    "player_scores['Score_5'] = players_totals['Score_5'] * 0.05\n",
    "player_scores['Score_3'] = players_three['Score_3'] * 0.15\n",
    "player_scores['Score_2'] = players_two['Score_2'] * 0.30\n",
    "player_scores['Score_1'] = players_one['Score_1'] * 0.50"
   ]
  },
  {
   "cell_type": "code",
   "execution_count": 472,
   "metadata": {},
   "outputs": [],
   "source": [
    "player_scores['Score_Total'] = player_scores.sum(axis = 1)"
   ]
  },
  {
   "cell_type": "code",
   "execution_count": 474,
   "metadata": {},
   "outputs": [],
   "source": [
    "player_scores = player_scores.reset_index()"
   ]
  },
  {
   "cell_type": "code",
   "execution_count": 476,
   "metadata": {},
   "outputs": [],
   "source": [
    "players = player_scores['Player'].values\n",
    "fwds = player_scores[player_scores['FPL_Pos'] == 'FWD']['Player'].values\n",
    "mids = player_scores[player_scores['FPL_Pos'] == 'MID']['Player'].values\n",
    "defs = player_scores[player_scores['FPL_Pos'] == 'DEF']['Player'].values"
   ]
  },
  {
   "cell_type": "code",
   "execution_count": 484,
   "metadata": {},
   "outputs": [],
   "source": [
    "player_points = player_scores.set_index('Player')['Score_Total'].to_dict()\n",
    "player_costs = player_scores.set_index('Player')['FPL_Cost'].to_dict()\n",
    "player_teams = player_scores.set_index('Player')['Team'].to_dict()"
   ]
  },
  {
   "cell_type": "code",
   "execution_count": 480,
   "metadata": {},
   "outputs": [],
   "source": [
    "fantasy = LpProblem('max_score_fantasy', LpMaximize)"
   ]
  },
  {
   "cell_type": "code",
   "execution_count": 481,
   "metadata": {},
   "outputs": [],
   "source": [
    "player_vars = LpVariable.dicts('Player_', players, cat = 'Binary')"
   ]
  },
  {
   "cell_type": "code",
   "execution_count": 482,
   "metadata": {},
   "outputs": [],
   "source": [
    "fantasy += lpSum([player_points[i] * player_vars[i] for i in players]), 'max_points'"
   ]
  },
  {
   "cell_type": "code",
   "execution_count": 485,
   "metadata": {},
   "outputs": [],
   "source": [
    "fantasy += lpSum([player_costs[p]*player_vars[p] for p in players]) <= 90, 'spending_limit'\n",
    "fantasy += lpSum([player_vars[p] for p in players if p in fwds]) == 3, 'forwards'\n",
    "fantasy += lpSum([player_vars[p] for p in players if p in mids]) == 5, 'midfielders'\n",
    "fantasy += lpSum([player_vars[p] for p in players if p in defs]) == 5, 'defenders'"
   ]
  },
  {
   "cell_type": "code",
   "execution_count": 486,
   "metadata": {},
   "outputs": [
    {
     "data": {
      "text/plain": [
       "1"
      ]
     },
     "execution_count": 486,
     "metadata": {},
     "output_type": "execute_result"
    }
   ],
   "source": [
    "fantasy.solve()"
   ]
  },
  {
   "cell_type": "code",
   "execution_count": 487,
   "metadata": {},
   "outputs": [
    {
     "data": {
      "text/plain": [
       "'Optimal'"
      ]
     },
     "execution_count": 487,
     "metadata": {},
     "output_type": "execute_result"
    }
   ],
   "source": [
    "LpStatus[fantasy.status]"
   ]
  },
  {
   "cell_type": "code",
   "execution_count": 490,
   "metadata": {},
   "outputs": [],
   "source": [
    "in_team = {}\n",
    "for v in fantasy.variables() :\n",
    "    name = v.name[8:].replace('_', ' ')\n",
    "    in_team[name] = v.varValue"
   ]
  },
  {
   "cell_type": "code",
   "execution_count": 491,
   "metadata": {},
   "outputs": [],
   "source": [
    "player_scores['In_team'] = player_scores['Player'].map(in_team)"
   ]
  },
  {
   "cell_type": "code",
   "execution_count": 495,
   "metadata": {},
   "outputs": [
    {
     "data": {
      "text/html": [
       "<div>\n",
       "<style scoped>\n",
       "    .dataframe tbody tr th:only-of-type {\n",
       "        vertical-align: middle;\n",
       "    }\n",
       "\n",
       "    .dataframe tbody tr th {\n",
       "        vertical-align: top;\n",
       "    }\n",
       "\n",
       "    .dataframe thead th {\n",
       "        text-align: right;\n",
       "    }\n",
       "</style>\n",
       "<table border=\"1\" class=\"dataframe\">\n",
       "  <thead>\n",
       "    <tr style=\"text-align: right;\">\n",
       "      <th></th>\n",
       "      <th>Player</th>\n",
       "      <th>Team</th>\n",
       "      <th>FPL_Pos</th>\n",
       "      <th>FPL_Cost</th>\n",
       "      <th>Score_5</th>\n",
       "      <th>Score_3</th>\n",
       "      <th>Score_2</th>\n",
       "      <th>Score_1</th>\n",
       "      <th>Score_Total</th>\n",
       "      <th>In_team</th>\n",
       "    </tr>\n",
       "  </thead>\n",
       "  <tbody>\n",
       "    <tr>\n",
       "      <th>33</th>\n",
       "      <td>Ashley Barnes</td>\n",
       "      <td>Burnley</td>\n",
       "      <td>FWD</td>\n",
       "      <td>6.5</td>\n",
       "      <td>7.392847</td>\n",
       "      <td>18.234116</td>\n",
       "      <td>27.135373</td>\n",
       "      <td>30.730492</td>\n",
       "      <td>83.492828</td>\n",
       "      <td>1.0</td>\n",
       "    </tr>\n",
       "    <tr>\n",
       "      <th>85</th>\n",
       "      <td>David Silva</td>\n",
       "      <td>Manchester City</td>\n",
       "      <td>MID</td>\n",
       "      <td>8.0</td>\n",
       "      <td>11.321802</td>\n",
       "      <td>22.415202</td>\n",
       "      <td>32.505732</td>\n",
       "      <td>26.859138</td>\n",
       "      <td>93.101875</td>\n",
       "      <td>1.0</td>\n",
       "    </tr>\n",
       "    <tr>\n",
       "      <th>158</th>\n",
       "      <td>Jamie Vardy</td>\n",
       "      <td>Leicester</td>\n",
       "      <td>FWD</td>\n",
       "      <td>9.0</td>\n",
       "      <td>17.410824</td>\n",
       "      <td>30.795127</td>\n",
       "      <td>46.878452</td>\n",
       "      <td>44.092445</td>\n",
       "      <td>139.176848</td>\n",
       "      <td>1.0</td>\n",
       "    </tr>\n",
       "    <tr>\n",
       "      <th>188</th>\n",
       "      <td>Joshua King</td>\n",
       "      <td>Bournemouth</td>\n",
       "      <td>FWD</td>\n",
       "      <td>6.5</td>\n",
       "      <td>8.895418</td>\n",
       "      <td>22.201482</td>\n",
       "      <td>29.866810</td>\n",
       "      <td>31.832447</td>\n",
       "      <td>92.796157</td>\n",
       "      <td>1.0</td>\n",
       "    </tr>\n",
       "    <tr>\n",
       "      <th>219</th>\n",
       "      <td>Luka Milivojevic</td>\n",
       "      <td>Crystal Palace</td>\n",
       "      <td>MID</td>\n",
       "      <td>7.0</td>\n",
       "      <td>4.625749</td>\n",
       "      <td>13.877246</td>\n",
       "      <td>24.993660</td>\n",
       "      <td>24.690658</td>\n",
       "      <td>68.187313</td>\n",
       "      <td>1.0</td>\n",
       "    </tr>\n",
       "    <tr>\n",
       "      <th>243</th>\n",
       "      <td>Matt Ritchie</td>\n",
       "      <td>Newcastle United</td>\n",
       "      <td>DEF</td>\n",
       "      <td>5.5</td>\n",
       "      <td>2.716964</td>\n",
       "      <td>8.150893</td>\n",
       "      <td>16.301785</td>\n",
       "      <td>14.202327</td>\n",
       "      <td>41.371969</td>\n",
       "      <td>1.0</td>\n",
       "    </tr>\n",
       "    <tr>\n",
       "      <th>251</th>\n",
       "      <td>Maya Yoshida</td>\n",
       "      <td>Southampton</td>\n",
       "      <td>DEF</td>\n",
       "      <td>4.5</td>\n",
       "      <td>1.923336</td>\n",
       "      <td>4.003686</td>\n",
       "      <td>5.626014</td>\n",
       "      <td>4.870033</td>\n",
       "      <td>16.423068</td>\n",
       "      <td>1.0</td>\n",
       "    </tr>\n",
       "    <tr>\n",
       "      <th>260</th>\n",
       "      <td>Mohamed Salah</td>\n",
       "      <td>Liverpool</td>\n",
       "      <td>MID</td>\n",
       "      <td>12.5</td>\n",
       "      <td>11.348409</td>\n",
       "      <td>34.045227</td>\n",
       "      <td>68.090454</td>\n",
       "      <td>54.792899</td>\n",
       "      <td>168.276988</td>\n",
       "      <td>1.0</td>\n",
       "    </tr>\n",
       "    <tr>\n",
       "      <th>268</th>\n",
       "      <td>Nathan Aké</td>\n",
       "      <td>Bournemouth</td>\n",
       "      <td>DEF</td>\n",
       "      <td>5.0</td>\n",
       "      <td>2.170953</td>\n",
       "      <td>6.512860</td>\n",
       "      <td>10.116832</td>\n",
       "      <td>10.557346</td>\n",
       "      <td>29.357991</td>\n",
       "      <td>1.0</td>\n",
       "    </tr>\n",
       "    <tr>\n",
       "      <th>279</th>\n",
       "      <td>Patrick van Aanholt</td>\n",
       "      <td>Crystal Palace</td>\n",
       "      <td>DEF</td>\n",
       "      <td>5.5</td>\n",
       "      <td>2.202132</td>\n",
       "      <td>6.606395</td>\n",
       "      <td>11.846154</td>\n",
       "      <td>10.485315</td>\n",
       "      <td>31.139996</td>\n",
       "      <td>1.0</td>\n",
       "    </tr>\n",
       "    <tr>\n",
       "      <th>281</th>\n",
       "      <td>Paul Pogba</td>\n",
       "      <td>Manchester United</td>\n",
       "      <td>MID</td>\n",
       "      <td>8.5</td>\n",
       "      <td>7.620843</td>\n",
       "      <td>22.862528</td>\n",
       "      <td>34.594457</td>\n",
       "      <td>37.501859</td>\n",
       "      <td>102.579686</td>\n",
       "      <td>1.0</td>\n",
       "    </tr>\n",
       "    <tr>\n",
       "      <th>351</th>\n",
       "      <td>Wes Morgan</td>\n",
       "      <td>Leicester</td>\n",
       "      <td>DEF</td>\n",
       "      <td>4.5</td>\n",
       "      <td>2.298421</td>\n",
       "      <td>3.429362</td>\n",
       "      <td>4.536584</td>\n",
       "      <td>3.295000</td>\n",
       "      <td>13.559367</td>\n",
       "      <td>1.0</td>\n",
       "    </tr>\n",
       "    <tr>\n",
       "      <th>354</th>\n",
       "      <td>Wilfried Zaha</td>\n",
       "      <td>Crystal Palace</td>\n",
       "      <td>MID</td>\n",
       "      <td>7.0</td>\n",
       "      <td>8.053516</td>\n",
       "      <td>17.744044</td>\n",
       "      <td>26.104204</td>\n",
       "      <td>18.651536</td>\n",
       "      <td>70.553300</td>\n",
       "      <td>1.0</td>\n",
       "    </tr>\n",
       "  </tbody>\n",
       "</table>\n",
       "</div>"
      ],
      "text/plain": [
       "                  Player               Team FPL_Pos  FPL_Cost    Score_5  \\\n",
       "33         Ashley Barnes            Burnley     FWD       6.5   7.392847   \n",
       "85           David Silva    Manchester City     MID       8.0  11.321802   \n",
       "158          Jamie Vardy          Leicester     FWD       9.0  17.410824   \n",
       "188          Joshua King        Bournemouth     FWD       6.5   8.895418   \n",
       "219     Luka Milivojevic     Crystal Palace     MID       7.0   4.625749   \n",
       "243         Matt Ritchie   Newcastle United     DEF       5.5   2.716964   \n",
       "251         Maya Yoshida        Southampton     DEF       4.5   1.923336   \n",
       "260        Mohamed Salah          Liverpool     MID      12.5  11.348409   \n",
       "268           Nathan Aké        Bournemouth     DEF       5.0   2.170953   \n",
       "279  Patrick van Aanholt     Crystal Palace     DEF       5.5   2.202132   \n",
       "281           Paul Pogba  Manchester United     MID       8.5   7.620843   \n",
       "351           Wes Morgan          Leicester     DEF       4.5   2.298421   \n",
       "354        Wilfried Zaha     Crystal Palace     MID       7.0   8.053516   \n",
       "\n",
       "       Score_3    Score_2    Score_1  Score_Total  In_team  \n",
       "33   18.234116  27.135373  30.730492    83.492828      1.0  \n",
       "85   22.415202  32.505732  26.859138    93.101875      1.0  \n",
       "158  30.795127  46.878452  44.092445   139.176848      1.0  \n",
       "188  22.201482  29.866810  31.832447    92.796157      1.0  \n",
       "219  13.877246  24.993660  24.690658    68.187313      1.0  \n",
       "243   8.150893  16.301785  14.202327    41.371969      1.0  \n",
       "251   4.003686   5.626014   4.870033    16.423068      1.0  \n",
       "260  34.045227  68.090454  54.792899   168.276988      1.0  \n",
       "268   6.512860  10.116832  10.557346    29.357991      1.0  \n",
       "279   6.606395  11.846154  10.485315    31.139996      1.0  \n",
       "281  22.862528  34.594457  37.501859   102.579686      1.0  \n",
       "351   3.429362   4.536584   3.295000    13.559367      1.0  \n",
       "354  17.744044  26.104204  18.651536    70.553300      1.0  "
      ]
     },
     "execution_count": 495,
     "metadata": {},
     "output_type": "execute_result"
    }
   ],
   "source": [
    "player_scores[player_scores['In_team'] == 1]"
   ]
  },
  {
   "cell_type": "code",
   "execution_count": null,
   "metadata": {},
   "outputs": [],
   "source": []
  }
 ],
 "metadata": {
  "kernelspec": {
   "display_name": "Python 3",
   "language": "python",
   "name": "python3"
  },
  "language_info": {
   "codemirror_mode": {
    "name": "ipython",
    "version": 3
   },
   "file_extension": ".py",
   "mimetype": "text/x-python",
   "name": "python",
   "nbconvert_exporter": "python",
   "pygments_lexer": "ipython3",
   "version": "3.6.8"
  }
 },
 "nbformat": 4,
 "nbformat_minor": 2
}
