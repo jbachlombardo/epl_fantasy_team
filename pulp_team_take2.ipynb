{
 "cells": [
  {
   "cell_type": "code",
   "execution_count": 176,
   "metadata": {},
   "outputs": [],
   "source": [
    "import pandas as pd\n",
    "import numpy as np\n",
    "from pulp import *\n",
    "import re\n",
    "from sklearn.ensemble import RandomForestRegressor\n",
    "import statsmodels.formula.api as smf\n",
    "from sklearn.model_selection import train_test_split"
   ]
  },
  {
   "cell_type": "code",
   "execution_count": 2,
   "metadata": {},
   "outputs": [],
   "source": [
    "allseasons = pd.read_csv('/Users/jbachlombardo/Documents/Python/Projects/xG/all_seasons_leagues_1415-1819.csv')"
   ]
  },
  {
   "cell_type": "code",
   "execution_count": 5,
   "metadata": {},
   "outputs": [],
   "source": [
    "allseasons = allseasons.drop('Unnamed: 0', axis = 1)"
   ]
  },
  {
   "cell_type": "code",
   "execution_count": 6,
   "metadata": {},
   "outputs": [],
   "source": [
    "costs = pd.read_csv('/Users/jbachlombardo/Documents/Python/Projects/xG/fpl_costs_120819.csv')"
   ]
  },
  {
   "cell_type": "code",
   "execution_count": 7,
   "metadata": {},
   "outputs": [],
   "source": [
    "points = pd.read_csv('/Users/jbachlombardo/Documents/Python/Projects/xG/fpl_points1718_120819.csv')"
   ]
  },
  {
   "cell_type": "code",
   "execution_count": 11,
   "metadata": {},
   "outputs": [],
   "source": [
    "costs = costs.dropna(axis = 1)\n",
    "points = points.dropna(axis = 1)"
   ]
  },
  {
   "cell_type": "code",
   "execution_count": 15,
   "metadata": {},
   "outputs": [],
   "source": [
    "costs = costs.rename(columns = {'Name': 'Player'})"
   ]
  },
  {
   "cell_type": "code",
   "execution_count": 26,
   "metadata": {},
   "outputs": [],
   "source": [
    "costspoints = costs.merge(points, on = ['Player', 'Team', 'Position'])"
   ]
  },
  {
   "cell_type": "code",
   "execution_count": 27,
   "metadata": {},
   "outputs": [],
   "source": [
    "team_dict = {\n",
    "'ARS': 'Arsenal',\n",
    "'AVL': 'Aston Villa',\n",
    "'BHA': 'Brighton Hove Albion',\n",
    "'BOU': 'Bournemouth',\n",
    "'BUR': 'Burnley',\n",
    "'CHE': 'Chelsea',\n",
    "'CRY': 'Crystal Palace',\n",
    "'EVE': 'Everton',\n",
    "'LEI': 'Leicester',\n",
    "'LIV': 'Liverpool',\n",
    "'MCI': 'Manchester City',\n",
    "'MUN': 'Manchester United',\n",
    "'NEW': 'Newcastle United',\n",
    "'NOR': 'Norwich',\n",
    "'SHU': 'Sheffield United',\n",
    "'SOU': 'Southampton',\n",
    "'TOT': 'Tottenham',\n",
    "'WAT': 'Watford',\n",
    "'WHU': 'West Ham',\n",
    "'WOL': 'Wolverhampton Wanderers'\n",
    "}"
   ]
  },
  {
   "cell_type": "code",
   "execution_count": 29,
   "metadata": {},
   "outputs": [],
   "source": [
    "costspoints['Team_name'] = costspoints['Team'].map(team_dict)"
   ]
  },
  {
   "cell_type": "code",
   "execution_count": 30,
   "metadata": {},
   "outputs": [],
   "source": [
    "def get_position_cost(x, y) :\n",
    "    last = x.split()[-1]\n",
    "    results = costspoints.loc[(costspoints['Player'].str.contains(last)) & (costspoints['Team_name'] == y), ['Cost', 'Position']].values\n",
    "    try :\n",
    "        return list(results[0])\n",
    "    except :\n",
    "        return [np.nan, np.nan]"
   ]
  },
  {
   "cell_type": "code",
   "execution_count": 31,
   "metadata": {},
   "outputs": [],
   "source": [
    "def get_position_points(x, y) :\n",
    "    last = x.split()[-1]\n",
    "    results = costspoints.loc[(costspoints['Player'].str.contains(last)) & (costspoints['Team_name'] == y), ['Points', 'Position']].values\n",
    "    try :\n",
    "        return list(results[0])\n",
    "    except :\n",
    "        return [np.nan, np.nan]"
   ]
  },
  {
   "cell_type": "code",
   "execution_count": 32,
   "metadata": {},
   "outputs": [],
   "source": [
    "season2018 = allseasons[(allseasons['League'] == 'EPL') & (allseasons['Season'] == '2017/18')]"
   ]
  },
  {
   "cell_type": "code",
   "execution_count": 34,
   "metadata": {},
   "outputs": [],
   "source": [
    "season2018_results = season2018[['Player', 'Team']].apply(lambda x: get_position_points(x[0], x[1]), axis = 1)"
   ]
  },
  {
   "cell_type": "code",
   "execution_count": 35,
   "metadata": {},
   "outputs": [
    {
     "name": "stderr",
     "output_type": "stream",
     "text": [
      "/anaconda/lib/python3.6/site-packages/pandas/core/frame.py:3391: SettingWithCopyWarning: \n",
      "A value is trying to be set on a copy of a slice from a DataFrame.\n",
      "Try using .loc[row_indexer,col_indexer] = value instead\n",
      "\n",
      "See the caveats in the documentation: http://pandas.pydata.org/pandas-docs/stable/indexing.html#indexing-view-versus-copy\n",
      "  self[k1] = value[k2]\n"
     ]
    }
   ],
   "source": [
    "season2018[['FPL_Points', 'FPL_Pos']] = pd.DataFrame(season2018_results.values.tolist(), index = season2018_results.index)"
   ]
  },
  {
   "cell_type": "code",
   "execution_count": 38,
   "metadata": {},
   "outputs": [],
   "source": [
    "season2018 = season2018.dropna()"
   ]
  },
  {
   "cell_type": "code",
   "execution_count": 45,
   "metadata": {},
   "outputs": [],
   "source": [
    "lm = smf.ols('FPL_Points ~ xG + xA + xG90 + xA90', data = season2018).fit()"
   ]
  },
  {
   "cell_type": "code",
   "execution_count": 194,
   "metadata": {},
   "outputs": [
    {
     "data": {
      "text/html": [
       "<table class=\"simpletable\">\n",
       "<caption>OLS Regression Results</caption>\n",
       "<tr>\n",
       "  <th>Dep. Variable:</th>       <td>FPL_Points</td>    <th>  R-squared:         </th> <td>   0.611</td>\n",
       "</tr>\n",
       "<tr>\n",
       "  <th>Model:</th>                   <td>OLS</td>       <th>  Adj. R-squared:    </th> <td>   0.604</td>\n",
       "</tr>\n",
       "<tr>\n",
       "  <th>Method:</th>             <td>Least Squares</td>  <th>  F-statistic:       </th> <td>   87.22</td>\n",
       "</tr>\n",
       "<tr>\n",
       "  <th>Date:</th>             <td>Sat, 17 Aug 2019</td> <th>  Prob (F-statistic):</th> <td>2.02e-44</td>\n",
       "</tr>\n",
       "<tr>\n",
       "  <th>Time:</th>                 <td>10:57:10</td>     <th>  Log-Likelihood:    </th> <td> -1099.8</td>\n",
       "</tr>\n",
       "<tr>\n",
       "  <th>No. Observations:</th>      <td>   227</td>      <th>  AIC:               </th> <td>   2210.</td>\n",
       "</tr>\n",
       "<tr>\n",
       "  <th>Df Residuals:</th>          <td>   222</td>      <th>  BIC:               </th> <td>   2227.</td>\n",
       "</tr>\n",
       "<tr>\n",
       "  <th>Df Model:</th>              <td>     4</td>      <th>                     </th>     <td> </td>   \n",
       "</tr>\n",
       "<tr>\n",
       "  <th>Covariance Type:</th>      <td>nonrobust</td>    <th>                     </th>     <td> </td>   \n",
       "</tr>\n",
       "</table>\n",
       "<table class=\"simpletable\">\n",
       "<tr>\n",
       "      <td></td>         <th>coef</th>     <th>std err</th>      <th>t</th>      <th>P>|t|</th>  <th>[0.025</th>    <th>0.975]</th>  \n",
       "</tr>\n",
       "<tr>\n",
       "  <th>Intercept</th> <td>   49.9609</td> <td>    2.844</td> <td>   17.570</td> <td> 0.000</td> <td>   44.357</td> <td>   55.565</td>\n",
       "</tr>\n",
       "<tr>\n",
       "  <th>xG</th>        <td>    4.9562</td> <td>    0.661</td> <td>    7.502</td> <td> 0.000</td> <td>    3.654</td> <td>    6.258</td>\n",
       "</tr>\n",
       "<tr>\n",
       "  <th>xA</th>        <td>   12.9914</td> <td>    1.384</td> <td>    9.386</td> <td> 0.000</td> <td>   10.264</td> <td>   15.719</td>\n",
       "</tr>\n",
       "<tr>\n",
       "  <th>xG90</th>      <td>  -11.5075</td> <td>    4.368</td> <td>   -2.634</td> <td> 0.009</td> <td>  -20.116</td> <td>   -2.899</td>\n",
       "</tr>\n",
       "<tr>\n",
       "  <th>xA90</th>      <td>  -80.7760</td> <td>   23.116</td> <td>   -3.494</td> <td> 0.001</td> <td> -126.330</td> <td>  -35.221</td>\n",
       "</tr>\n",
       "</table>\n",
       "<table class=\"simpletable\">\n",
       "<tr>\n",
       "  <th>Omnibus:</th>       <td>28.841</td> <th>  Durbin-Watson:     </th> <td>   2.001</td>\n",
       "</tr>\n",
       "<tr>\n",
       "  <th>Prob(Omnibus):</th> <td> 0.000</td> <th>  Jarque-Bera (JB):  </th> <td>  36.941</td>\n",
       "</tr>\n",
       "<tr>\n",
       "  <th>Skew:</th>          <td> 0.854</td> <th>  Prob(JB):          </th> <td>9.52e-09</td>\n",
       "</tr>\n",
       "<tr>\n",
       "  <th>Kurtosis:</th>      <td> 3.994</td> <th>  Cond. No.          </th> <td>    59.7</td>\n",
       "</tr>\n",
       "</table><br/><br/>Warnings:<br/>[1] Standard Errors assume that the covariance matrix of the errors is correctly specified."
      ],
      "text/plain": [
       "<class 'statsmodels.iolib.summary.Summary'>\n",
       "\"\"\"\n",
       "                            OLS Regression Results                            \n",
       "==============================================================================\n",
       "Dep. Variable:             FPL_Points   R-squared:                       0.611\n",
       "Model:                            OLS   Adj. R-squared:                  0.604\n",
       "Method:                 Least Squares   F-statistic:                     87.22\n",
       "Date:                Sat, 17 Aug 2019   Prob (F-statistic):           2.02e-44\n",
       "Time:                        10:57:10   Log-Likelihood:                -1099.8\n",
       "No. Observations:                 227   AIC:                             2210.\n",
       "Df Residuals:                     222   BIC:                             2227.\n",
       "Df Model:                           4                                         \n",
       "Covariance Type:            nonrobust                                         \n",
       "==============================================================================\n",
       "                 coef    std err          t      P>|t|      [0.025      0.975]\n",
       "------------------------------------------------------------------------------\n",
       "Intercept     49.9609      2.844     17.570      0.000      44.357      55.565\n",
       "xG             4.9562      0.661      7.502      0.000       3.654       6.258\n",
       "xA            12.9914      1.384      9.386      0.000      10.264      15.719\n",
       "xG90         -11.5075      4.368     -2.634      0.009     -20.116      -2.899\n",
       "xA90         -80.7760     23.116     -3.494      0.001    -126.330     -35.221\n",
       "==============================================================================\n",
       "Omnibus:                       28.841   Durbin-Watson:                   2.001\n",
       "Prob(Omnibus):                  0.000   Jarque-Bera (JB):               36.941\n",
       "Skew:                           0.854   Prob(JB):                     9.52e-09\n",
       "Kurtosis:                       3.994   Cond. No.                         59.7\n",
       "==============================================================================\n",
       "\n",
       "Warnings:\n",
       "[1] Standard Errors assume that the covariance matrix of the errors is correctly specified.\n",
       "\"\"\""
      ]
     },
     "execution_count": 194,
     "metadata": {},
     "output_type": "execute_result"
    }
   ],
   "source": [
    "lm.summary()"
   ]
  },
  {
   "cell_type": "code",
   "execution_count": 47,
   "metadata": {},
   "outputs": [],
   "source": [
    "X = season2018[['xG', 'xA', 'xG90', 'xA90']].values\n",
    "y = season2018['FPL_Points'].values"
   ]
  },
  {
   "cell_type": "code",
   "execution_count": 48,
   "metadata": {},
   "outputs": [],
   "source": [
    "reg = RandomForestRegressor()"
   ]
  },
  {
   "cell_type": "code",
   "execution_count": 49,
   "metadata": {},
   "outputs": [
    {
     "name": "stderr",
     "output_type": "stream",
     "text": [
      "/anaconda/lib/python3.6/site-packages/sklearn/ensemble/forest.py:246: FutureWarning: The default value of n_estimators will change from 10 in version 0.20 to 100 in 0.22.\n",
      "  \"10 in version 0.20 to 100 in 0.22.\", FutureWarning)\n"
     ]
    }
   ],
   "source": [
    "reg = reg.fit(X, y)"
   ]
  },
  {
   "cell_type": "code",
   "execution_count": 52,
   "metadata": {},
   "outputs": [
    {
     "data": {
      "text/plain": [
       "array([0.29999028, 0.53299538, 0.06209455, 0.10491979])"
      ]
     },
     "execution_count": 52,
     "metadata": {},
     "output_type": "execute_result"
    }
   ],
   "source": [
    "reg.feature_importances_"
   ]
  },
  {
   "cell_type": "code",
   "execution_count": 55,
   "metadata": {},
   "outputs": [
    {
     "data": {
      "text/plain": [
       "0.9036032063288963"
      ]
     },
     "execution_count": 55,
     "metadata": {},
     "output_type": "execute_result"
    }
   ],
   "source": [
    "reg.score(X, y)"
   ]
  },
  {
   "cell_type": "code",
   "execution_count": 192,
   "metadata": {},
   "outputs": [],
   "source": [
    "X_train, X_test, y_train, y_test = train_test_split(X, y)"
   ]
  },
  {
   "cell_type": "code",
   "execution_count": 193,
   "metadata": {},
   "outputs": [
    {
     "name": "stderr",
     "output_type": "stream",
     "text": [
      "/anaconda/lib/python3.6/site-packages/sklearn/ensemble/forest.py:246: FutureWarning: The default value of n_estimators will change from 10 in version 0.20 to 100 in 0.22.\n",
      "  \"10 in version 0.20 to 100 in 0.22.\", FutureWarning)\n"
     ]
    },
    {
     "data": {
      "text/plain": [
       "0.5389678196960636"
      ]
     },
     "execution_count": 193,
     "metadata": {},
     "output_type": "execute_result"
    }
   ],
   "source": [
    "reg_test = RandomForestRegressor()\n",
    "reg_test = reg_test.fit(X_train, y_train)\n",
    "reg_test.score(X_test, y_test)"
   ]
  },
  {
   "cell_type": "code",
   "execution_count": 62,
   "metadata": {},
   "outputs": [],
   "source": [
    "allseasons_costs = pd.read_csv('/Users/jbachlombardo/Documents/Python/Projects/xG/all_seasons_leagues_1415-1819_withcosts.csv')"
   ]
  },
  {
   "cell_type": "code",
   "execution_count": 64,
   "metadata": {},
   "outputs": [],
   "source": [
    "allseasons_costs = allseasons_costs.drop('Unnamed: 0', axis = 1)"
   ]
  },
  {
   "cell_type": "code",
   "execution_count": 67,
   "metadata": {},
   "outputs": [],
   "source": [
    "with_costs = allseasons_costs.dropna(subset = ['FPL_Cost'])"
   ]
  },
  {
   "cell_type": "code",
   "execution_count": 69,
   "metadata": {},
   "outputs": [
    {
     "name": "stderr",
     "output_type": "stream",
     "text": [
      "/anaconda/lib/python3.6/site-packages/ipykernel_launcher.py:1: SettingWithCopyWarning: \n",
      "A value is trying to be set on a copy of a slice from a DataFrame.\n",
      "Try using .loc[row_indexer,col_indexer] = value instead\n",
      "\n",
      "See the caveats in the documentation: http://pandas.pydata.org/pandas-docs/stable/indexing.html#indexing-view-versus-copy\n",
      "  \"\"\"Entry point for launching an IPython kernel.\n",
      "/anaconda/lib/python3.6/site-packages/ipykernel_launcher.py:2: SettingWithCopyWarning: \n",
      "A value is trying to be set on a copy of a slice from a DataFrame.\n",
      "Try using .loc[row_indexer,col_indexer] = value instead\n",
      "\n",
      "See the caveats in the documentation: http://pandas.pydata.org/pandas-docs/stable/indexing.html#indexing-view-versus-copy\n",
      "  \n"
     ]
    }
   ],
   "source": [
    "with_costs['Sh'] = with_costs['Sh90'] * with_costs['Min'] / 90\n",
    "with_costs['KP'] = with_costs['KP90'] * with_costs['Min'] / 90"
   ]
  },
  {
   "cell_type": "code",
   "execution_count": 70,
   "metadata": {},
   "outputs": [],
   "source": [
    "agg_dict = {\n",
    "    'xG': 'sum',\n",
    "    'xA': 'sum',\n",
    "    'G': 'sum',\n",
    "    'A': 'sum',\n",
    "    'Min': 'sum',\n",
    "    'Sh': 'sum',\n",
    "    'KP': 'sum',\n",
    "    'Season': 'count',\n",
    "    'FPL_Cost': 'max'\n",
    "}"
   ]
  },
  {
   "cell_type": "code",
   "execution_count": 130,
   "metadata": {},
   "outputs": [],
   "source": [
    "players_totals = with_costs.groupby(['Player', 'Team', 'FPL_Pos'], as_index = False).agg(agg_dict)"
   ]
  },
  {
   "cell_type": "code",
   "execution_count": 131,
   "metadata": {},
   "outputs": [],
   "source": [
    "players_three = with_costs[(with_costs['Season'] == '2016/17') | (with_costs['Season'] == '2017/18') | (with_costs['Season'] == '2018/19')]"
   ]
  },
  {
   "cell_type": "code",
   "execution_count": 132,
   "metadata": {},
   "outputs": [],
   "source": [
    "players_two = with_costs[(with_costs['Season'] == '2017/18') | (with_costs['Season'] == '2018/19')]"
   ]
  },
  {
   "cell_type": "code",
   "execution_count": 133,
   "metadata": {},
   "outputs": [],
   "source": [
    "players_one = with_costs[with_costs['Season'] == '2018/19']"
   ]
  },
  {
   "cell_type": "code",
   "execution_count": 134,
   "metadata": {},
   "outputs": [],
   "source": [
    "players_three = players_three.groupby(['Player', 'Team', 'FPL_Pos'], as_index = False).agg(agg_dict)"
   ]
  },
  {
   "cell_type": "code",
   "execution_count": 135,
   "metadata": {},
   "outputs": [],
   "source": [
    "players_two = players_two.groupby(['Player', 'Team', 'FPL_Pos'], as_index = False).agg(agg_dict)"
   ]
  },
  {
   "cell_type": "code",
   "execution_count": 136,
   "metadata": {},
   "outputs": [],
   "source": [
    "rate_cols = ['xG', 'xA', 'G', 'A', 'Sh', 'KP']\n",
    "for r in rate_cols :\n",
    "    new_col = r + '90'\n",
    "    players_totals[new_col] = players_totals[r] / players_totals['Min'] * 90"
   ]
  },
  {
   "cell_type": "code",
   "execution_count": 137,
   "metadata": {},
   "outputs": [],
   "source": [
    "for r in rate_cols :\n",
    "    new_col = r + '90'\n",
    "    players_three[new_col] = players_three[r] / players_three['Min'] * 90"
   ]
  },
  {
   "cell_type": "code",
   "execution_count": 138,
   "metadata": {},
   "outputs": [],
   "source": [
    "for r in rate_cols :\n",
    "    new_col = r + '90'\n",
    "    players_two[new_col] = players_two[r] / players_two['Min'] * 90"
   ]
  },
  {
   "cell_type": "code",
   "execution_count": 139,
   "metadata": {},
   "outputs": [],
   "source": [
    "players_totals = players_totals.rename(columns = {'xG': 'xG_total', 'xA': 'xA_total'})\n",
    "players_three = players_three.rename(columns = {'xG': 'xG_total', 'xA': 'xA_total'})\n",
    "players_two = players_two.rename(columns = {'xG': 'xG_total', 'xA': 'xA_total'})"
   ]
  },
  {
   "cell_type": "code",
   "execution_count": 140,
   "metadata": {},
   "outputs": [],
   "source": [
    "players_totals['xG'] = players_totals['xG_total'] / players_totals['Season']\n",
    "players_three['xG'] = players_three['xG_total'] / players_three['Season']\n",
    "players_two['xG'] = players_two['xG_total'] / players_two['Season']"
   ]
  },
  {
   "cell_type": "code",
   "execution_count": 141,
   "metadata": {},
   "outputs": [],
   "source": [
    "players_totals['xA'] = players_totals['xA_total'] / players_totals['Season']\n",
    "players_three['xA'] = players_three['xA_total'] / players_three['Season']\n",
    "players_two['xA'] = players_two['xA_total'] / players_two['Season']"
   ]
  },
  {
   "cell_type": "code",
   "execution_count": 142,
   "metadata": {},
   "outputs": [],
   "source": [
    "defs = season2018[season2018['FPL_Pos'] == 'DEF']\n",
    "mids = season2018[season2018['FPL_Pos'] == 'MID']\n",
    "fwds = season2018[season2018['FPL_Pos'] == 'FWD']"
   ]
  },
  {
   "cell_type": "code",
   "execution_count": 143,
   "metadata": {},
   "outputs": [
    {
     "name": "stderr",
     "output_type": "stream",
     "text": [
      "/anaconda/lib/python3.6/site-packages/sklearn/ensemble/forest.py:246: FutureWarning: The default value of n_estimators will change from 10 in version 0.20 to 100 in 0.22.\n",
      "  \"10 in version 0.20 to 100 in 0.22.\", FutureWarning)\n"
     ]
    }
   ],
   "source": [
    "X_defs = defs[['xG', 'xA', 'xG90', 'xA90']]\n",
    "y_defs = defs['FPL_Points']\n",
    "reg_defs = RandomForestRegressor()\n",
    "reg_defs = reg_defs.fit(X_defs, y_defs)"
   ]
  },
  {
   "cell_type": "code",
   "execution_count": 144,
   "metadata": {},
   "outputs": [
    {
     "name": "stderr",
     "output_type": "stream",
     "text": [
      "/anaconda/lib/python3.6/site-packages/sklearn/ensemble/forest.py:246: FutureWarning: The default value of n_estimators will change from 10 in version 0.20 to 100 in 0.22.\n",
      "  \"10 in version 0.20 to 100 in 0.22.\", FutureWarning)\n"
     ]
    }
   ],
   "source": [
    "X_mids = mids[['xG', 'xA', 'xG90', 'xA90']]\n",
    "y_mids = mids['FPL_Points']\n",
    "reg_mids = RandomForestRegressor()\n",
    "reg_mids = reg_mids.fit(X_mids, y_mids)"
   ]
  },
  {
   "cell_type": "code",
   "execution_count": 145,
   "metadata": {},
   "outputs": [
    {
     "name": "stderr",
     "output_type": "stream",
     "text": [
      "/anaconda/lib/python3.6/site-packages/sklearn/ensemble/forest.py:246: FutureWarning: The default value of n_estimators will change from 10 in version 0.20 to 100 in 0.22.\n",
      "  \"10 in version 0.20 to 100 in 0.22.\", FutureWarning)\n"
     ]
    }
   ],
   "source": [
    "X_fwds = fwds[['xG', 'xA', 'xG90', 'xA90']]\n",
    "y_fwds = fwds['FPL_Points']\n",
    "reg_fwds = RandomForestRegressor()\n",
    "reg_fwds = reg_fwds.fit(X_fwds, y_fwds)"
   ]
  },
  {
   "cell_type": "code",
   "execution_count": 146,
   "metadata": {},
   "outputs": [],
   "source": [
    "def pred_scores(data) :\n",
    "    defs_pred = data[data['FPL_Pos'] == 'DEF']\n",
    "    mids_pred = data[data['FPL_Pos'] == 'MID']\n",
    "    fwds_pred = data[data['FPL_Pos'] == 'FWD']\n",
    "    defs_pred['Pred_score'] = reg_defs.predict(defs_pred[['xG', 'xA', 'xG90', 'xA90']])\n",
    "    mids_pred['Pred_score'] = reg_mids.predict(mids_pred[['xG', 'xA', 'xG90', 'xA90']])\n",
    "    fwds_pred['Pred_score'] = reg_defs.predict(fwds_pred[['xG', 'xA', 'xG90', 'xA90']])\n",
    "    all_predicted = pd.concat([defs_pred, mids_pred, fwds_pred])\n",
    "    return all_predicted"
   ]
  },
  {
   "cell_type": "code",
   "execution_count": 149,
   "metadata": {},
   "outputs": [
    {
     "name": "stderr",
     "output_type": "stream",
     "text": [
      "/anaconda/lib/python3.6/site-packages/ipykernel_launcher.py:5: SettingWithCopyWarning: \n",
      "A value is trying to be set on a copy of a slice from a DataFrame.\n",
      "Try using .loc[row_indexer,col_indexer] = value instead\n",
      "\n",
      "See the caveats in the documentation: http://pandas.pydata.org/pandas-docs/stable/indexing.html#indexing-view-versus-copy\n",
      "  \"\"\"\n",
      "/anaconda/lib/python3.6/site-packages/ipykernel_launcher.py:6: SettingWithCopyWarning: \n",
      "A value is trying to be set on a copy of a slice from a DataFrame.\n",
      "Try using .loc[row_indexer,col_indexer] = value instead\n",
      "\n",
      "See the caveats in the documentation: http://pandas.pydata.org/pandas-docs/stable/indexing.html#indexing-view-versus-copy\n",
      "  \n",
      "/anaconda/lib/python3.6/site-packages/ipykernel_launcher.py:7: SettingWithCopyWarning: \n",
      "A value is trying to be set on a copy of a slice from a DataFrame.\n",
      "Try using .loc[row_indexer,col_indexer] = value instead\n",
      "\n",
      "See the caveats in the documentation: http://pandas.pydata.org/pandas-docs/stable/indexing.html#indexing-view-versus-copy\n",
      "  import sys\n",
      "/anaconda/lib/python3.6/site-packages/ipykernel_launcher.py:5: SettingWithCopyWarning: \n",
      "A value is trying to be set on a copy of a slice from a DataFrame.\n",
      "Try using .loc[row_indexer,col_indexer] = value instead\n",
      "\n",
      "See the caveats in the documentation: http://pandas.pydata.org/pandas-docs/stable/indexing.html#indexing-view-versus-copy\n",
      "  \"\"\"\n",
      "/anaconda/lib/python3.6/site-packages/ipykernel_launcher.py:6: SettingWithCopyWarning: \n",
      "A value is trying to be set on a copy of a slice from a DataFrame.\n",
      "Try using .loc[row_indexer,col_indexer] = value instead\n",
      "\n",
      "See the caveats in the documentation: http://pandas.pydata.org/pandas-docs/stable/indexing.html#indexing-view-versus-copy\n",
      "  \n",
      "/anaconda/lib/python3.6/site-packages/ipykernel_launcher.py:7: SettingWithCopyWarning: \n",
      "A value is trying to be set on a copy of a slice from a DataFrame.\n",
      "Try using .loc[row_indexer,col_indexer] = value instead\n",
      "\n",
      "See the caveats in the documentation: http://pandas.pydata.org/pandas-docs/stable/indexing.html#indexing-view-versus-copy\n",
      "  import sys\n",
      "/anaconda/lib/python3.6/site-packages/ipykernel_launcher.py:5: SettingWithCopyWarning: \n",
      "A value is trying to be set on a copy of a slice from a DataFrame.\n",
      "Try using .loc[row_indexer,col_indexer] = value instead\n",
      "\n",
      "See the caveats in the documentation: http://pandas.pydata.org/pandas-docs/stable/indexing.html#indexing-view-versus-copy\n",
      "  \"\"\"\n",
      "/anaconda/lib/python3.6/site-packages/ipykernel_launcher.py:6: SettingWithCopyWarning: \n",
      "A value is trying to be set on a copy of a slice from a DataFrame.\n",
      "Try using .loc[row_indexer,col_indexer] = value instead\n",
      "\n",
      "See the caveats in the documentation: http://pandas.pydata.org/pandas-docs/stable/indexing.html#indexing-view-versus-copy\n",
      "  \n",
      "/anaconda/lib/python3.6/site-packages/ipykernel_launcher.py:7: SettingWithCopyWarning: \n",
      "A value is trying to be set on a copy of a slice from a DataFrame.\n",
      "Try using .loc[row_indexer,col_indexer] = value instead\n",
      "\n",
      "See the caveats in the documentation: http://pandas.pydata.org/pandas-docs/stable/indexing.html#indexing-view-versus-copy\n",
      "  import sys\n",
      "/anaconda/lib/python3.6/site-packages/ipykernel_launcher.py:5: SettingWithCopyWarning: \n",
      "A value is trying to be set on a copy of a slice from a DataFrame.\n",
      "Try using .loc[row_indexer,col_indexer] = value instead\n",
      "\n",
      "See the caveats in the documentation: http://pandas.pydata.org/pandas-docs/stable/indexing.html#indexing-view-versus-copy\n",
      "  \"\"\"\n",
      "/anaconda/lib/python3.6/site-packages/ipykernel_launcher.py:6: SettingWithCopyWarning: \n",
      "A value is trying to be set on a copy of a slice from a DataFrame.\n",
      "Try using .loc[row_indexer,col_indexer] = value instead\n",
      "\n",
      "See the caveats in the documentation: http://pandas.pydata.org/pandas-docs/stable/indexing.html#indexing-view-versus-copy\n",
      "  \n",
      "/anaconda/lib/python3.6/site-packages/ipykernel_launcher.py:7: SettingWithCopyWarning: \n",
      "A value is trying to be set on a copy of a slice from a DataFrame.\n",
      "Try using .loc[row_indexer,col_indexer] = value instead\n",
      "\n",
      "See the caveats in the documentation: http://pandas.pydata.org/pandas-docs/stable/indexing.html#indexing-view-versus-copy\n",
      "  import sys\n"
     ]
    }
   ],
   "source": [
    "players_totals = pred_scores(players_totals)\n",
    "players_three = pred_scores(players_three)\n",
    "players_two = pred_scores(players_two)\n",
    "players_one = pred_scores(players_one)"
   ]
  },
  {
   "cell_type": "code",
   "execution_count": 151,
   "metadata": {},
   "outputs": [],
   "source": [
    "index_cols = ['Player', 'Team', 'FPL_Pos', 'FPL_Cost']"
   ]
  },
  {
   "cell_type": "code",
   "execution_count": 152,
   "metadata": {},
   "outputs": [],
   "source": [
    "players_totals = players_totals.set_index(index_cols)\n",
    "players_three = players_three.set_index(index_cols)\n",
    "players_two = players_two.set_index(index_cols)\n",
    "players_one = players_one.set_index(index_cols)"
   ]
  },
  {
   "cell_type": "code",
   "execution_count": 153,
   "metadata": {},
   "outputs": [],
   "source": [
    "player_scores = pd.DataFrame(index = players_totals.index)"
   ]
  },
  {
   "cell_type": "code",
   "execution_count": 154,
   "metadata": {},
   "outputs": [],
   "source": [
    "player_scores['Score_5'] = players_totals['Pred_score'] * 0.05\n",
    "player_scores['Score_3'] = players_three['Pred_score'] * 0.15\n",
    "player_scores['Score_2'] = players_two['Pred_score'] * 0.30\n",
    "player_scores['Score_1'] = players_one['Pred_score'] * 0.50"
   ]
  },
  {
   "cell_type": "code",
   "execution_count": 156,
   "metadata": {},
   "outputs": [],
   "source": [
    "player_scores['Score_Total'] = player_scores.sum(axis = 1)"
   ]
  },
  {
   "cell_type": "code",
   "execution_count": 157,
   "metadata": {},
   "outputs": [],
   "source": [
    "player_scores = player_scores.reset_index()"
   ]
  },
  {
   "cell_type": "code",
   "execution_count": 158,
   "metadata": {},
   "outputs": [],
   "source": [
    "players = player_scores['Player'].values\n",
    "fwds = player_scores[player_scores['FPL_Pos'] == 'FWD']['Player'].values\n",
    "mids = player_scores[player_scores['FPL_Pos'] == 'MID']['Player'].values\n",
    "defs = player_scores[player_scores['FPL_Pos'] == 'DEF']['Player'].values"
   ]
  },
  {
   "cell_type": "code",
   "execution_count": 160,
   "metadata": {},
   "outputs": [],
   "source": [
    "player_points = player_scores.set_index('Player')['Score_Total'].to_dict()\n",
    "player_costs = player_scores.set_index('Player')['FPL_Cost'].to_dict()"
   ]
  },
  {
   "cell_type": "code",
   "execution_count": 161,
   "metadata": {},
   "outputs": [],
   "source": [
    "fantasy = LpProblem('max_score_fantasy', LpMaximize)"
   ]
  },
  {
   "cell_type": "code",
   "execution_count": 162,
   "metadata": {},
   "outputs": [],
   "source": [
    "player_vars = LpVariable.dicts('Player_', players, cat = 'Binary')"
   ]
  },
  {
   "cell_type": "code",
   "execution_count": 163,
   "metadata": {},
   "outputs": [],
   "source": [
    "fantasy += lpSum([player_points[i] * player_vars[i] for i in players]), 'max_points'"
   ]
  },
  {
   "cell_type": "code",
   "execution_count": 164,
   "metadata": {},
   "outputs": [],
   "source": [
    "fantasy += lpSum([player_costs[p]*player_vars[p] for p in players]) <= 90, 'spending_limit'\n",
    "fantasy += lpSum([player_vars[p] for p in players if p in fwds]) == 3, 'forwards'\n",
    "fantasy += lpSum([player_vars[p] for p in players if p in mids]) == 5, 'midfielders'\n",
    "fantasy += lpSum([player_vars[p] for p in players if p in defs]) == 5, 'defenders'"
   ]
  },
  {
   "cell_type": "code",
   "execution_count": 165,
   "metadata": {},
   "outputs": [
    {
     "data": {
      "text/plain": [
       "1"
      ]
     },
     "execution_count": 165,
     "metadata": {},
     "output_type": "execute_result"
    }
   ],
   "source": [
    "fantasy.solve()"
   ]
  },
  {
   "cell_type": "code",
   "execution_count": 166,
   "metadata": {},
   "outputs": [
    {
     "data": {
      "text/plain": [
       "'Optimal'"
      ]
     },
     "execution_count": 166,
     "metadata": {},
     "output_type": "execute_result"
    }
   ],
   "source": [
    "LpStatus[fantasy.status]"
   ]
  },
  {
   "cell_type": "code",
   "execution_count": 167,
   "metadata": {},
   "outputs": [],
   "source": [
    "in_team = {}\n",
    "for v in fantasy.variables() :\n",
    "    name = v.name[8:].replace('_', ' ')\n",
    "    in_team[name] = v.varValue"
   ]
  },
  {
   "cell_type": "code",
   "execution_count": 168,
   "metadata": {},
   "outputs": [],
   "source": [
    "player_scores['In_team'] = player_scores['Player'].map(in_team)"
   ]
  },
  {
   "cell_type": "code",
   "execution_count": 169,
   "metadata": {},
   "outputs": [
    {
     "data": {
      "text/html": [
       "<div>\n",
       "<style scoped>\n",
       "    .dataframe tbody tr th:only-of-type {\n",
       "        vertical-align: middle;\n",
       "    }\n",
       "\n",
       "    .dataframe tbody tr th {\n",
       "        vertical-align: top;\n",
       "    }\n",
       "\n",
       "    .dataframe thead th {\n",
       "        text-align: right;\n",
       "    }\n",
       "</style>\n",
       "<table border=\"1\" class=\"dataframe\">\n",
       "  <thead>\n",
       "    <tr style=\"text-align: right;\">\n",
       "      <th></th>\n",
       "      <th>Player</th>\n",
       "      <th>Team</th>\n",
       "      <th>FPL_Pos</th>\n",
       "      <th>FPL_Cost</th>\n",
       "      <th>Score_5</th>\n",
       "      <th>Score_3</th>\n",
       "      <th>Score_2</th>\n",
       "      <th>Score_1</th>\n",
       "      <th>Score_Total</th>\n",
       "      <th>In_team</th>\n",
       "    </tr>\n",
       "  </thead>\n",
       "  <tbody>\n",
       "    <tr>\n",
       "      <th>67</th>\n",
       "      <td>José Holebas</td>\n",
       "      <td>Watford</td>\n",
       "      <td>DEF</td>\n",
       "      <td>5.0</td>\n",
       "      <td>5.235</td>\n",
       "      <td>22.065</td>\n",
       "      <td>38.67</td>\n",
       "      <td>65.55</td>\n",
       "      <td>131.520</td>\n",
       "      <td>1.0</td>\n",
       "    </tr>\n",
       "    <tr>\n",
       "      <th>84</th>\n",
       "      <td>Marcos Alonso</td>\n",
       "      <td>Chelsea</td>\n",
       "      <td>DEF</td>\n",
       "      <td>6.5</td>\n",
       "      <td>7.275</td>\n",
       "      <td>21.825</td>\n",
       "      <td>43.65</td>\n",
       "      <td>72.25</td>\n",
       "      <td>145.000</td>\n",
       "      <td>1.0</td>\n",
       "    </tr>\n",
       "    <tr>\n",
       "      <th>101</th>\n",
       "      <td>Patrick van Aanholt</td>\n",
       "      <td>Crystal Palace</td>\n",
       "      <td>DEF</td>\n",
       "      <td>5.5</td>\n",
       "      <td>4.220</td>\n",
       "      <td>12.660</td>\n",
       "      <td>41.70</td>\n",
       "      <td>78.80</td>\n",
       "      <td>137.380</td>\n",
       "      <td>1.0</td>\n",
       "    </tr>\n",
       "    <tr>\n",
       "      <th>105</th>\n",
       "      <td>Ricardo Pereira</td>\n",
       "      <td>Leicester</td>\n",
       "      <td>DEF</td>\n",
       "      <td>6.0</td>\n",
       "      <td>7.135</td>\n",
       "      <td>21.405</td>\n",
       "      <td>42.81</td>\n",
       "      <td>69.25</td>\n",
       "      <td>140.600</td>\n",
       "      <td>1.0</td>\n",
       "    </tr>\n",
       "    <tr>\n",
       "      <th>126</th>\n",
       "      <td>Willy Boly</td>\n",
       "      <td>Wolverhampton Wanderers</td>\n",
       "      <td>DEF</td>\n",
       "      <td>5.0</td>\n",
       "      <td>6.800</td>\n",
       "      <td>20.400</td>\n",
       "      <td>40.80</td>\n",
       "      <td>68.00</td>\n",
       "      <td>136.000</td>\n",
       "      <td>1.0</td>\n",
       "    </tr>\n",
       "    <tr>\n",
       "      <th>155</th>\n",
       "      <td>Christian Eriksen</td>\n",
       "      <td>Tottenham</td>\n",
       "      <td>MID</td>\n",
       "      <td>9.0</td>\n",
       "      <td>9.090</td>\n",
       "      <td>29.550</td>\n",
       "      <td>55.44</td>\n",
       "      <td>75.65</td>\n",
       "      <td>169.730</td>\n",
       "      <td>1.0</td>\n",
       "    </tr>\n",
       "    <tr>\n",
       "      <th>158</th>\n",
       "      <td>David Brooks</td>\n",
       "      <td>Bournemouth</td>\n",
       "      <td>MID</td>\n",
       "      <td>6.5</td>\n",
       "      <td>7.165</td>\n",
       "      <td>21.495</td>\n",
       "      <td>42.99</td>\n",
       "      <td>71.65</td>\n",
       "      <td>143.300</td>\n",
       "      <td>1.0</td>\n",
       "    </tr>\n",
       "    <tr>\n",
       "      <th>159</th>\n",
       "      <td>David Silva</td>\n",
       "      <td>Manchester City</td>\n",
       "      <td>MID</td>\n",
       "      <td>8.0</td>\n",
       "      <td>7.545</td>\n",
       "      <td>25.905</td>\n",
       "      <td>49.80</td>\n",
       "      <td>86.35</td>\n",
       "      <td>169.600</td>\n",
       "      <td>1.0</td>\n",
       "    </tr>\n",
       "    <tr>\n",
       "      <th>193</th>\n",
       "      <td>James Maddison</td>\n",
       "      <td>Leicester</td>\n",
       "      <td>MID</td>\n",
       "      <td>7.0</td>\n",
       "      <td>7.795</td>\n",
       "      <td>23.385</td>\n",
       "      <td>46.77</td>\n",
       "      <td>77.95</td>\n",
       "      <td>155.900</td>\n",
       "      <td>1.0</td>\n",
       "    </tr>\n",
       "    <tr>\n",
       "      <th>236</th>\n",
       "      <td>Mohamed Salah</td>\n",
       "      <td>Liverpool</td>\n",
       "      <td>MID</td>\n",
       "      <td>12.5</td>\n",
       "      <td>13.670</td>\n",
       "      <td>41.010</td>\n",
       "      <td>82.02</td>\n",
       "      <td>125.60</td>\n",
       "      <td>262.300</td>\n",
       "      <td>1.0</td>\n",
       "    </tr>\n",
       "    <tr>\n",
       "      <th>296</th>\n",
       "      <td>Danny Ings</td>\n",
       "      <td>Southampton</td>\n",
       "      <td>FWD</td>\n",
       "      <td>6.0</td>\n",
       "      <td>6.145</td>\n",
       "      <td>18.435</td>\n",
       "      <td>36.87</td>\n",
       "      <td>61.45</td>\n",
       "      <td>122.900</td>\n",
       "      <td>1.0</td>\n",
       "    </tr>\n",
       "    <tr>\n",
       "      <th>310</th>\n",
       "      <td>Joshua King</td>\n",
       "      <td>Bournemouth</td>\n",
       "      <td>FWD</td>\n",
       "      <td>6.5</td>\n",
       "      <td>7.510</td>\n",
       "      <td>22.530</td>\n",
       "      <td>40.86</td>\n",
       "      <td>78.45</td>\n",
       "      <td>149.350</td>\n",
       "      <td>1.0</td>\n",
       "    </tr>\n",
       "    <tr>\n",
       "      <th>328</th>\n",
       "      <td>Troy Deeney</td>\n",
       "      <td>Watford</td>\n",
       "      <td>FWD</td>\n",
       "      <td>6.5</td>\n",
       "      <td>6.810</td>\n",
       "      <td>21.825</td>\n",
       "      <td>40.08</td>\n",
       "      <td>61.95</td>\n",
       "      <td>130.665</td>\n",
       "      <td>1.0</td>\n",
       "    </tr>\n",
       "  </tbody>\n",
       "</table>\n",
       "</div>"
      ],
      "text/plain": [
       "                  Player                     Team FPL_Pos  FPL_Cost  Score_5  \\\n",
       "67          José Holebas                  Watford     DEF       5.0    5.235   \n",
       "84         Marcos Alonso                  Chelsea     DEF       6.5    7.275   \n",
       "101  Patrick van Aanholt           Crystal Palace     DEF       5.5    4.220   \n",
       "105      Ricardo Pereira                Leicester     DEF       6.0    7.135   \n",
       "126           Willy Boly  Wolverhampton Wanderers     DEF       5.0    6.800   \n",
       "155    Christian Eriksen                Tottenham     MID       9.0    9.090   \n",
       "158         David Brooks              Bournemouth     MID       6.5    7.165   \n",
       "159          David Silva          Manchester City     MID       8.0    7.545   \n",
       "193       James Maddison                Leicester     MID       7.0    7.795   \n",
       "236        Mohamed Salah                Liverpool     MID      12.5   13.670   \n",
       "296           Danny Ings              Southampton     FWD       6.0    6.145   \n",
       "310          Joshua King              Bournemouth     FWD       6.5    7.510   \n",
       "328          Troy Deeney                  Watford     FWD       6.5    6.810   \n",
       "\n",
       "     Score_3  Score_2  Score_1  Score_Total  In_team  \n",
       "67    22.065    38.67    65.55      131.520      1.0  \n",
       "84    21.825    43.65    72.25      145.000      1.0  \n",
       "101   12.660    41.70    78.80      137.380      1.0  \n",
       "105   21.405    42.81    69.25      140.600      1.0  \n",
       "126   20.400    40.80    68.00      136.000      1.0  \n",
       "155   29.550    55.44    75.65      169.730      1.0  \n",
       "158   21.495    42.99    71.65      143.300      1.0  \n",
       "159   25.905    49.80    86.35      169.600      1.0  \n",
       "193   23.385    46.77    77.95      155.900      1.0  \n",
       "236   41.010    82.02   125.60      262.300      1.0  \n",
       "296   18.435    36.87    61.45      122.900      1.0  \n",
       "310   22.530    40.86    78.45      149.350      1.0  \n",
       "328   21.825    40.08    61.95      130.665      1.0  "
      ]
     },
     "execution_count": 169,
     "metadata": {},
     "output_type": "execute_result"
    }
   ],
   "source": [
    "player_scores[player_scores['In_team'] == 1]"
   ]
  },
  {
   "cell_type": "code",
   "execution_count": null,
   "metadata": {},
   "outputs": [],
   "source": []
  }
 ],
 "metadata": {
  "kernelspec": {
   "display_name": "Python 3",
   "language": "python",
   "name": "python3"
  },
  "language_info": {
   "codemirror_mode": {
    "name": "ipython",
    "version": 3
   },
   "file_extension": ".py",
   "mimetype": "text/x-python",
   "name": "python",
   "nbconvert_exporter": "python",
   "pygments_lexer": "ipython3",
   "version": "3.6.8"
  }
 },
 "nbformat": 4,
 "nbformat_minor": 2
}
